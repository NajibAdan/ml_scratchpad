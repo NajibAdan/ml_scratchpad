{
 "cells": [
  {
   "attachments": {},
   "cell_type": "markdown",
   "metadata": {},
   "source": [
    "# Diagonal and Orthogonal Matrix\n",
    "\n",
    "## Diagonal Matrix\n",
    "- Nonzero elements along the main diagonal; zeros everywhere\n",
    "- If square, denoted as dig(x) where x is the vector of the main diagonal matrix\n",
    "- Computationally efficinet:\n",
    "    - Multiplication = diag(x)y = x*y\n",
    "    - Inversion  diag(x)<sup>-1</sup> = diag\\[1/x<sub>1</sub>,..., 1/x<sub>n</sub>]<sup>T</sup>\n",
    "        - Can't devicde by zero so x can't include zero\n",
    "- Can be non-square and computation still efficient:\n",
    "    - if h>w, simply add zeros to product\n",
    "    - if w>h, remove elements from product"
   ]
  },
  {
   "attachments": {},
   "cell_type": "markdown",
   "metadata": {},
   "source": [
    "## Orthonormal Matrix\n",
    "- Make up all rows\n",
    "- Make up all columns\n",
    "\n",
    "This means ***A<sup>T</sup>A*** = ***AA<sup>T</sup> = I***\n",
    "\n",
    "Which also means ***A<sup>T</sup>*** = ***A<sup>-1</sup>I = A<sup>-1</sup>***\n",
    "\n",
    "Calculation ***A<sup>T</sup>*** is cheap so as calculating ***A<sup>-1</sup>*** "
   ]
  }
 ],
 "metadata": {
  "kernelspec": {
   "display_name": "Python 3",
   "language": "python",
   "name": "python3"
  },
  "language_info": {
   "name": "python",
   "version": "3.10.6"
  },
  "orig_nbformat": 4,
  "vscode": {
   "interpreter": {
    "hash": "31f2aee4e71d21fbe5cf8b01ff0e069b9275f58929596ceb00d14d90e3e16cd6"
   }
  }
 },
 "nbformat": 4,
 "nbformat_minor": 2
}
