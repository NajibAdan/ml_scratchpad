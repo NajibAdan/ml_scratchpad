{
 "cells": [
  {
   "attachments": {},
   "cell_type": "markdown",
   "metadata": {},
   "source": [
    "# Artifical Neural Network with TensorFlow"
   ]
  },
  {
   "cell_type": "code",
   "execution_count": 4,
   "metadata": {},
   "outputs": [],
   "source": [
    "import numpy as np\n",
    "import matplotlib.pyplot as plt \n",
    "import tensorflow as tf\n",
    "import pandas\n",
    "from tensorflow import keras"
   ]
  },
  {
   "cell_type": "code",
   "execution_count": 5,
   "metadata": {},
   "outputs": [],
   "source": [
    "def generate_one_hot(value):\n",
    "    one_hot = [0.0]*26\n",
    "    one_hot[value] = 1.0 \n",
    "    return one_hot\n",
    "\n",
    "\n",
    "def prepare_dataset(filename):\n",
    "    a = []\n",
    "    for i in range(26):\n",
    "        a.append(i)\n",
    "    b = \"ABCDEFGHIJKLMNOPQRSTUVWXYZ\"\n",
    "    alphabet = {}\n",
    "    for i in range(len(b)):\n",
    "        alphabet[b[i]] = a[i]\n",
    "    headers = ['LETTER']\n",
    "    for i in range(1,17):\n",
    "        headers.append(f'INPUT{i}')\n",
    "    dataframe = pandas.read_csv(filename,names=headers)\n",
    "    X = []\n",
    "    Y = []\n",
    "    Y_hot = []\n",
    "    for item, row in dataframe.iterrows():\n",
    "        X.append([1,row['INPUT1'],row['INPUT2'],row['INPUT3'],row['INPUT4'],row['INPUT5'],row['INPUT6'],row['INPUT7'],row['INPUT8'],\n",
    "                  row['INPUT9'],row['INPUT10'],row['INPUT11'],row['INPUT12'],row['INPUT13'],row['INPUT14'],row['INPUT15'],row['INPUT16'],\n",
    "                  ])\n",
    "        Y.append(row['LETTER'])\n",
    "    X = np.array(X)\n",
    "    Y = np.array(Y)\n",
    "\n",
    "    Y_hot = np.array([generate_one_hot(alphabet[i[0]]) for i in Y])\n",
    "    return X,Y_hot\n",
    "        \n",
    "        "
   ]
  },
  {
   "cell_type": "code",
   "execution_count": 6,
   "metadata": {},
   "outputs": [
    {
     "name": "stdout",
     "output_type": "stream",
     "text": [
      "(20000, 17)\n",
      "(20000, 26)\n"
     ]
    }
   ],
   "source": [
    "X,Y = prepare_dataset('data/letter-recognition.csv')\n",
    "print(X.shape)\n",
    "print(Y.shape)"
   ]
  },
  {
   "cell_type": "code",
   "execution_count": 15,
   "metadata": {},
   "outputs": [],
   "source": [
    "model_1 = keras.Sequential([\n",
    "    keras.Input(shape=(17,)),\n",
    "    keras.layers.Dense(500,activation='sigmoid',name='Layer1'),\n",
    "    keras.layers.Dense(26,activation='softmax', name='Layer2')\n",
    "])"
   ]
  },
  {
   "cell_type": "code",
   "execution_count": 16,
   "metadata": {},
   "outputs": [
    {
     "name": "stdout",
     "output_type": "stream",
     "text": [
      "Model: \"sequential_4\"\n",
      "_________________________________________________________________\n",
      " Layer (type)                Output Shape              Param #   \n",
      "=================================================================\n",
      " Layer1 (Dense)              (None, 500)               9000      \n",
      "                                                                 \n",
      " Layer2 (Dense)              (None, 26)                13026     \n",
      "                                                                 \n",
      "=================================================================\n",
      "Total params: 22,026\n",
      "Trainable params: 22,026\n",
      "Non-trainable params: 0\n",
      "_________________________________________________________________\n"
     ]
    }
   ],
   "source": [
    "model_1.build()\n",
    "model_1.summary()"
   ]
  },
  {
   "cell_type": "code",
   "execution_count": 30,
   "metadata": {},
   "outputs": [],
   "source": [
    "class Linear(keras.layers.Layer):\n",
    "    def __init__(self,n_outputs):\n",
    "        super(Linear,self).__init__()\n",
    "        self.n_outputs = n_outputs\n",
    "    def build(self,input_shape):\n",
    "        self.weight = self.add_weight(shape=(input_shape[-1],self.n_outputs),initializer='random_normal',trainable=True)\n",
    "        self.bias = self.add_weight(shape=(self.n_outputs,),initializer='random_normal',trainable=True)\n",
    "\n",
    "    def call(self,inputs):\n",
    "        return tf.matmul(inputs,self.weight) + self.bias"
   ]
  },
  {
   "cell_type": "code",
   "execution_count": 32,
   "metadata": {},
   "outputs": [
    {
     "data": {
      "text/plain": [
       "TensorShape([1, 26])"
      ]
     },
     "execution_count": 32,
     "metadata": {},
     "output_type": "execute_result"
    }
   ],
   "source": [
    "class Model(tf.keras.Model):\n",
    "    def __init__(self):\n",
    "        super().__init__()\n",
    "        self.linear_1 = Linear(500)\n",
    "        self.linear_2 = Linear(26)\n",
    "    def __call__(self,x,training=True):\n",
    "        x = self.linear_1(x)\n",
    "        output = self.linear_2(x)\n",
    "        return output\n",
    "    \n",
    "model_class = Model()\n",
    "model_class(tf.zeros([1,217])).shape"
   ]
  },
  {
   "cell_type": "code",
   "execution_count": 24,
   "metadata": {},
   "outputs": [],
   "source": [
    "class Linear(keras.layers.Layer):\n",
    "    def __init__(self,n_inputs,n_outputs):\n",
    "        super(Linear,self).__init__()\n",
    "        self.n_inputs = n_inputs\n",
    "        self.n_outputs = n_outputs\n",
    "    def build(self,input_shape):\n",
    "        self.weight = self.add_weight(shape=(self.n_inputs,self.n_outputs),initializers='random_normal',trainable=True)\n",
    "        self.bias = self.add_weight(shape=(self.n_outputs,),initializers='random_normal',trainable=True)\n",
    "\n",
    "    def call(self,inputs):\n",
    "        return tf.matmul(inputs,self.weight) + self.bias\n",
    "\n",
    "model_class"
   ]
  },
  {
   "cell_type": "code",
   "execution_count": null,
   "metadata": {},
   "outputs": [],
   "source": []
  }
 ],
 "metadata": {
  "kernelspec": {
   "display_name": "Python 3",
   "language": "python",
   "name": "python3"
  },
  "language_info": {
   "codemirror_mode": {
    "name": "ipython",
    "version": 3
   },
   "file_extension": ".py",
   "mimetype": "text/x-python",
   "name": "python",
   "nbconvert_exporter": "python",
   "pygments_lexer": "ipython3",
   "version": "3.9.15"
  },
  "orig_nbformat": 4
 },
 "nbformat": 4,
 "nbformat_minor": 2
}
